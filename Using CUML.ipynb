{
 "cells": [
  {
   "cell_type": "code",
   "execution_count": null,
   "id": "d13664e6",
   "metadata": {},
   "outputs": [],
   "source": [
    "s"
   ]
  }
 ],
 "metadata": {
  "language_info": {
   "name": "python"
  }
 },
 "nbformat": 4,
 "nbformat_minor": 5
}
